{
 "cells": [
  {
   "cell_type": "code",
   "execution_count": null,
   "id": "d1cb837a",
   "metadata": {
    "execution": {
     "iopub.execute_input": "2023-04-18T19:16:55.479737Z",
     "iopub.status.busy": "2023-04-18T19:16:55.478957Z",
     "iopub.status.idle": "2023-04-18T19:16:57.154571Z",
     "shell.execute_reply": "2023-04-18T19:16:57.153080Z"
    },
    "papermill": {
     "duration": 1.684841,
     "end_time": "2023-04-18T19:16:57.157651",
     "exception": false,
     "start_time": "2023-04-18T19:16:55.472810",
     "status": "completed"
    },
    "tags": []
   },
   "outputs": [],
   "source": [
    "import final_metric\n",
    "import numpy as np\n",
    "import pandas as pd\n",
    "from tqdm import tqdm\n",
    "from sklearn.feature_extraction.text import TfidfVectorizer\n",
    "from sklearn.model_selection import train_test_split\n",
    "from sklearn.linear_model import LogisticRegression\n",
    "from sklearn.naive_bayes import MultinomialNB\n",
    "from sklearn.ensemble import RandomForestClassifier\n",
    "from sklearn.svm import LinearSVC\n",
    "from sklearn.neighbors import KNeighborsClassifier\n",
    "from sklearn.tree import DecisionTreeClassifier\n",
    "from sklearn.neural_network import MLPClassifier\n",
    "from sklearn.metrics import roc_auc_score\n",
    "import pickle"
   ]
  },
  {
   "cell_type": "code",
   "execution_count": null,
   "id": "1e6ec5f5",
   "metadata": {},
   "outputs": [],
   "source": [
    "def load_data(file_path):\n",
    "    data = pd.read_csv(file_path)\n",
    "    data.target = data.target.apply(lambda x: 1 if x > 0.5 else 0)\n",
    "    return data"
   ]
  },
  {
   "cell_type": "code",
   "execution_count": null,
   "id": "46c068f1",
   "metadata": {
    "execution": {
     "iopub.execute_input": "2023-04-18T19:16:57.180819Z",
     "iopub.status.busy": "2023-04-18T19:16:57.179752Z",
     "iopub.status.idle": "2023-04-18T19:16:57.185373Z",
     "shell.execute_reply": "2023-04-18T19:16:57.184416Z"
    },
    "papermill": {
     "duration": 0.011993,
     "end_time": "2023-04-18T19:16:57.187813",
     "exception": false,
     "start_time": "2023-04-18T19:16:57.175820",
     "status": "completed"
    },
    "tags": []
   },
   "outputs": [],
   "source": [
    "def preprocess(text_data):\n",
    "    vectorizer = TfidfVectorizer(stop_words='english', max_features=10000)\n",
    "    return vectorizer.fit_transform(text_data)"
   ]
  },
  {
   "cell_type": "code",
   "execution_count": null,
   "id": "b4377622",
   "metadata": {
    "execution": {
     "iopub.execute_input": "2023-04-18T19:16:57.195252Z",
     "iopub.status.busy": "2023-04-18T19:16:57.194551Z",
     "iopub.status.idle": "2023-04-18T19:16:57.205175Z",
     "shell.execute_reply": "2023-04-18T19:16:57.203909Z"
    },
    "papermill": {
     "duration": 0.017606,
     "end_time": "2023-04-18T19:16:57.208024",
     "exception": false,
     "start_time": "2023-04-18T19:16:57.190418",
     "status": "completed"
    },
    "tags": []
   },
   "outputs": [],
   "source": [
    "def train_models(data, test_size=0.2, random_state=42):\n",
    "    df_train, df_valid = train_test_split(\n",
    "        data, test_size=test_size, random_state=random_state, stratify=data.target.values\n",
    "    )\n",
    "\n",
    "    df_train = df_train.reset_index(drop=True)\n",
    "    df_valid = df_valid.reset_index(drop=True)\n",
    "\n",
    "    X_train = df_train[\"comment_text\"]\n",
    "    X_valid = df_valid[\"comment_text\"]\n",
    "    # use this instead, will have to modify load_data and preprocess\n",
    "    # X_train = preprocess(df_train[\"comment_text\"])\n",
    "    # X_val = preprocess(df_valid[\"comment_text\"])\n",
    "\n",
    "    y_train = df_train[\"target\"]\n",
    "    y_valid = df_valid[\"target\"]\n",
    "\n",
    "    models = [\n",
    "        LogisticRegression(max_iter=1000),\n",
    "        MultinomialNB(),\n",
    "        RandomForestClassifier(),\n",
    "        LinearSVC(),\n",
    "        KNeighborsClassifier(),\n",
    "        DecisionTreeClassifier(),\n",
    "        MLPClassifier()\n",
    "    ]\n",
    "    model_names = [\n",
    "        'Logistic Regression',\n",
    "        'Naive Bayes',\n",
    "        'Random Forest',\n",
    "        'Linear SVC',\n",
    "        'KNeighbors',\n",
    "        'Decision Tree',\n",
    "        'MLP'\n",
    "    ]\n",
    "\n",
    "    best_auc = 0\n",
    "    best_model = None\n",
    "    best_model_name = None\n",
    "\n",
    "    for model, name in zip(models, model_names):\n",
    "        print(f'Training {name}...')\n",
    "        model.fit(X_train, y_train)\n",
    "        y_pred = model.predict(X_valid)\n",
    "        auc = roc_auc_score(y_valid, y_pred)\n",
    "        print(f'{name} AUC: {auc}')\n",
    "\n",
    "        if auc > best_auc:\n",
    "            best_auc = auc\n",
    "            best_model = model\n",
    "            best_model_name = name\n",
    "\n",
    "    print(f'Best model: {best_model_name} with AUC: {best_auc}')\n",
    "    with open(f'best_model.bin', 'wb') as f:\n",
    "        pickle.dump(best_model, f)\n",
    "\n",
    "    # make final metric call and print it\n",
    "    # metric_value = final_metric.get_value(df_valid, valid_outputs, model_name)"
   ]
  },
  {
   "cell_type": "code",
   "execution_count": null,
   "id": "5353a2b6",
   "metadata": {
    "execution": {
     "iopub.execute_input": "2023-04-18T19:16:57.215321Z",
     "iopub.status.busy": "2023-04-18T19:16:57.214858Z",
     "iopub.status.idle": "2023-04-18T19:16:57.221255Z",
     "shell.execute_reply": "2023-04-18T19:16:57.219823Z"
    },
    "papermill": {
     "duration": 0.013078,
     "end_time": "2023-04-18T19:16:57.223821",
     "exception": false,
     "start_time": "2023-04-18T19:16:57.210743",
     "status": "completed"
    },
    "tags": []
   },
   "outputs": [],
   "source": [
    "def predict(text, model_path='best_model.bin'):\n",
    "    with open(model_path, 'rb') as f:\n",
    "        model = pickle.load(f)\n",
    "    vectorizer = TfidfVectorizer(stop_words='english', max_features=10000)\n",
    "    X = vectorizer.fit_transform([text])\n",
    "    return model.predict(X)[0]"
   ]
  },
  {
   "cell_type": "code",
   "execution_count": null,
   "id": "b2ae3ca1",
   "metadata": {
    "execution": {
     "iopub.execute_input": "2023-04-18T19:16:57.231220Z",
     "iopub.status.busy": "2023-04-18T19:16:57.230804Z"
    },
    "papermill": {
     "duration": null,
     "end_time": null,
     "exception": false,
     "start_time": "2023-04-18T19:16:57.226495",
     "status": "running"
    },
    "tags": []
   },
   "outputs": [],
   "source": [
    "if __name__ == '__main__':\n",
    "    data = load_data('data/train.csv')\n",
    "\n",
    "    train_models(data)\n",
    "\n",
    "    # add vizualizations \n",
    "\n",
    "    # Example 1 usage of the predict function\n",
    "    example_text = 'Immigrants don\\'t get deported. ILLEGAL immigrants do.'\n",
    "    prediction = predict(example_text)\n",
    "    print(f'Prediction for \"{example_text}\": {prediction}')\n",
    "    \n",
    "    # Example 2 usage of the predict function\n",
    "    example_text = 'You should burn in hell.'\n",
    "    prediction = predict(example_text)\n",
    "    print(f'Prediction for \"{example_text}\": {prediction}')"
   ]
  }
 ],
 "metadata": {
  "kernelspec": {
   "display_name": "Python 3",
   "language": "python",
   "name": "python3"
  },
  "language_info": {
   "codemirror_mode": {
    "name": "ipython",
    "version": 3
   },
   "file_extension": ".py",
   "mimetype": "text/x-python",
   "name": "python",
   "nbconvert_exporter": "python",
   "pygments_lexer": "ipython3",
   "version": "3.10.9"
  },
  "papermill": {
   "default_parameters": {},
   "duration": null,
   "end_time": null,
   "environment_variables": {},
   "exception": null,
   "input_path": "__notebook__.ipynb",
   "output_path": "__notebook__.ipynb",
   "parameters": {},
   "start_time": "2023-04-18T19:16:42.944367",
   "version": "2.4.0"
  }
 },
 "nbformat": 4,
 "nbformat_minor": 5
}
